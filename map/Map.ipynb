{
 "cells": [
  {
   "cell_type": "code",
   "execution_count": 32,
   "metadata": {},
   "outputs": [],
   "source": [
    "import csv\n",
    "import pygal\n",
    "from pygal.maps.world import World\n",
    "data_file_name = '../dataset/joined_w_countries.csv'"
   ]
  },
  {
   "cell_type": "code",
   "execution_count": 46,
   "metadata": {},
   "outputs": [],
   "source": [
    "def generateMap(year):\n",
    "    worldmap_chart = pygal.maps.world.World()\n",
    "    worldmap_chart.title = 'Production vs Consumption - Year ' + year\n",
    "    with open(data_file_name) as f:\n",
    "        reader = csv.reader(f)\n",
    "        for row in reader:\n",
    "            if(row[3] == year):\n",
    "                worldmap_chart.add(row[2], {\n",
    "                str(row[6].lower()): [row[4], row[5]]\n",
    "            })\n",
    "        worldmap_chart.render_in_browser()"
   ]
  },
  {
   "cell_type": "code",
   "execution_count": 47,
   "metadata": {},
   "outputs": [
    {
     "name": "stdout",
     "output_type": "stream",
     "text": [
      "file://C:/Users/pwc/AppData/Local/Temp/tmpmgxmi54r.html\n"
     ]
    }
   ],
   "source": [
    "generateMap('2000')"
   ]
  },
  {
   "cell_type": "code",
   "execution_count": null,
   "metadata": {},
   "outputs": [],
   "source": []
  }
 ],
 "metadata": {
  "kernelspec": {
   "display_name": "Python 3",
   "language": "python",
   "name": "python3"
  },
  "language_info": {
   "codemirror_mode": {
    "name": "ipython",
    "version": 3
   },
   "file_extension": ".py",
   "mimetype": "text/x-python",
   "name": "python",
   "nbconvert_exporter": "python",
   "pygments_lexer": "ipython3",
   "version": "3.7.0"
  }
 },
 "nbformat": 4,
 "nbformat_minor": 2
}
