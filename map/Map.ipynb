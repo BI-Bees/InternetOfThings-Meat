{
 "cells": [
  {
   "cell_type": "code",
   "execution_count": 1,
   "metadata": {},
   "outputs": [],
   "source": [
    "import csv\n",
    "import pygal\n",
    "from pygal.maps.world import World\n",
    "data_file_name = '../dataset/joined_w_countries.csv'"
   ]
  },
  {
   "cell_type": "code",
   "execution_count": 2,
   "metadata": {},
   "outputs": [],
   "source": [
    "def generate_map(year):\n",
    "    worldmap_chart = pygal.maps.world.World()\n",
    "    worldmap_chart.title = 'Production vs Consumption - Year ' + year\n",
    "    with open(data_file_name) as f:\n",
    "        reader = csv.reader(f)\n",
    "        for row in reader:\n",
    "            if(row[3] == year):\n",
    "                worldmap_chart.add(row[2], {\n",
    "                str(row[6].lower()): [row[4], row[5]]\n",
    "            })\n",
    "        worldmap_chart.render_in_browser()"
   ]
  },
  {
   "cell_type": "code",
   "execution_count": 3,
   "metadata": {},
   "outputs": [
    {
     "name": "stdout",
     "output_type": "stream",
     "text": [
      "file://C:/Users/pwc/AppData/Local/Temp/tmpahtmsm6o.html\n"
     ]
    }
   ],
   "source": [
    "generate_map('2013')"
   ]
  },
  {
   "cell_type": "code",
   "execution_count": 6,
   "metadata": {},
   "outputs": [],
   "source": [
    "def total_production(year):\n",
    "    total_production = 0.0\n",
    "    sum = 0\n",
    "    firstline = True\n",
    "    with open(data_file_name) as f:\n",
    "        reader = csv.reader(f)\n",
    "        for row in reader:\n",
    "            if firstline:\n",
    "                firstline = False\n",
    "                continue\n",
    "            if(int(row[3]) == year):\n",
    "                total_production += float(row[4])\n",
    "                sum = sum + 1\n",
    "    return total_production / sum"
   ]
  },
  {
   "cell_type": "code",
   "execution_count": 7,
   "metadata": {},
   "outputs": [],
   "source": [
    "def total_consumption(year):\n",
    "    total_consumption = 0.0\n",
    "    sum = 0\n",
    "    firstline = True\n",
    "    with open(data_file_name) as f:\n",
    "        reader = csv.reader(f)\n",
    "        for row in reader:\n",
    "            if firstline:\n",
    "                firstline = False\n",
    "                continue\n",
    "            if(int(row[3]) == year):\n",
    "                total_consumption += float(row[5])\n",
    "                sum = sum + 1\n",
    "    return total_consumption / sum"
   ]
  },
  {
   "cell_type": "code",
   "execution_count": 28,
   "metadata": {},
   "outputs": [],
   "source": [
    "def bar_chart():\n",
    "    line_chart = pygal.Bar()\n",
    "    line_chart.title = 'Prodcution and Consumption over the years'\n",
    "    line_chart.x_labels = map(str, range(1991, 2014))\n",
    "    line_chart.add('Consumption', [total_consumption(1991), total_consumption(1992), total_consumption(1993), total_consumption(1994), total_consumption(1995), total_consumption(1996), total_consumption(1997), total_consumption(1998), total_consumption(1999), total_consumption(2000), total_consumption(2001), total_consumption(2002), total_consumption(2003), total_consumption(2004), total_consumption(2005), total_consumption(2006), total_consumption(2007), total_consumption(2008), total_consumption(2009), total_consumption(2010), total_consumption(2011), total_consumption(2012), total_consumption(2013)])\n",
    "    line_chart.add('Production', [total_production(1991), total_production(1992), total_production(1993), total_production(1994), total_production(1995), total_production(1996), total_production(1997), total_production(1998), total_production(1999), total_production(2000), total_production(2001), total_production(2002), total_production(2003), total_production(2004), total_production(2005), total_production(2006), total_production(2007), total_production(2008), total_production(2009), total_production(2010), total_production(2011), total_production(2012), total_production(2013)])\n",
    "    line_chart.render_in_browser()"
   ]
  },
  {
   "cell_type": "code",
   "execution_count": 42,
   "metadata": {},
   "outputs": [
    {
     "name": "stdout",
     "output_type": "stream",
     "text": [
      "file:///var/folders/5r/n17xzmgd2tz5cyfyrfrf9h580000gn/T/tmpkgdn8uv0.html\n"
     ]
    }
   ],
   "source": [
    "bar_chart()"
   ]
  },
  {
   "cell_type": "code",
   "execution_count": 26,
   "metadata": {},
   "outputs": [],
   "source": [
    "def pie_chart(year):\n",
    "    pie_chart = pygal.Pie()\n",
    "    pie_chart.title = 'Production vs Consumption ' + str(year)\n",
    "    pie_chart.add('Production', total_production(year))\n",
    "    pie_chart.add('Consumption', total_consumption(year))\n",
    "    pie_chart.render_in_browser()"
   ]
  },
  {
   "cell_type": "code",
   "execution_count": 27,
   "metadata": {},
   "outputs": [
    {
     "name": "stdout",
     "output_type": "stream",
     "text": [
      "file:///var/folders/5r/n17xzmgd2tz5cyfyrfrf9h580000gn/T/tmpw79fn6j4.html\n"
     ]
    }
   ],
   "source": [
    "pie_chart(2000)"
   ]
  },
  {
   "cell_type": "code",
   "execution_count": 8,
   "metadata": {},
   "outputs": [],
   "source": [
    "def line_chart():\n",
    "    line_chart = pygal.Line()\n",
    "    line_chart.title = 'Prodcution and Consumption over the years'\n",
    "    line_chart.x_labels = map(str, range(1991, 2014))\n",
    "    line_chart.add('Production', [total_consumption(1991), total_consumption(1992), total_consumption(1993), total_consumption(1994), total_consumption(1995), total_consumption(1996), total_consumption(1997), total_consumption(1998), total_consumption(1999), total_consumption(2000), total_consumption(2001), total_consumption(2002), total_consumption(2003), total_consumption(2004), total_consumption(2005), total_consumption(2006), total_consumption(2007), total_consumption(2008), total_consumption(2009), total_consumption(2010), total_consumption(2011), total_consumption(2012), total_consumption(2013)])\n",
    "    line_chart.add('Consumption',  [total_production(1991), total_production(1992), total_production(1993), total_production(1994), total_production(1995), total_production(1996), total_production(1997), total_production(1998), total_production(1999), total_production(2000), total_production(2001), total_production(2002), total_production(2003), total_production(2004), total_production(2005), total_production(2006), total_production(2007), total_production(2008), total_production(2009), total_production(2010), total_production(2011), total_production(2012), total_production(2013)])\n",
    "    line_chart.render_in_browser()"
   ]
  },
  {
   "cell_type": "code",
   "execution_count": 9,
   "metadata": {},
   "outputs": [
    {
     "name": "stdout",
     "output_type": "stream",
     "text": [
      "file://C:/Users/pwc/AppData/Local/Temp/tmp_0xa0nhm.html\n"
     ]
    }
   ],
   "source": [
    "line_chart()"
   ]
  },
  {
   "cell_type": "code",
   "execution_count": null,
   "metadata": {},
   "outputs": [],
   "source": []
  }
 ],
 "metadata": {
  "kernelspec": {
   "display_name": "Python 3",
   "language": "python",
   "name": "python3"
  },
  "language_info": {
   "codemirror_mode": {
    "name": "ipython",
    "version": 3
   },
   "file_extension": ".py",
   "mimetype": "text/x-python",
   "name": "python",
   "nbconvert_exporter": "python",
   "pygments_lexer": "ipython3",
   "version": "3.7.0"
  }
 },
 "nbformat": 4,
 "nbformat_minor": 2
}
