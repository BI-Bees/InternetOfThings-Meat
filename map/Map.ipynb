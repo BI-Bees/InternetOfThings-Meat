{
 "cells": [
  {
   "cell_type": "code",
   "execution_count": 11,
   "metadata": {},
   "outputs": [],
   "source": [
    "import csv\n",
    "import pygal\n",
    "from pygal.maps.world import World\n",
    "data_file_name = '../dataset/joined_w_countries.csv'"
   ]
  },
  {
   "cell_type": "code",
   "execution_count": 4,
   "metadata": {},
   "outputs": [],
   "source": [
    "def generateMap(year):\n",
    "    worldmap_chart = pygal.maps.world.World()\n",
    "    worldmap_chart.title = 'Production vs Consumption - Year ' + year\n",
    "    with open(data_file_name) as f:\n",
    "        reader = csv.reader(f)\n",
    "        for row in reader:\n",
    "            if(row[3] == year):\n",
    "                worldmap_chart.add(row[2], {\n",
    "                str(row[6].lower()): [row[4], row[5]]\n",
    "            })\n",
    "        worldmap_chart.render_in_browser()"
   ]
  },
  {
   "cell_type": "code",
   "execution_count": 34,
   "metadata": {},
   "outputs": [
    {
     "name": "stdout",
     "output_type": "stream",
     "text": [
      "file://C:/Users/pwc/AppData/Local/Temp/tmpeo9ds1pg.html\n"
     ]
    }
   ],
   "source": [
    "generateMap('2000')"
   ]
  },
  {
   "cell_type": "code",
   "execution_count": 35,
   "metadata": {},
   "outputs": [
    {
     "name": "stdout",
     "output_type": "stream",
     "text": [
      "file://C:/Users/pwc/AppData/Local/Temp/tmpjjnc9on8.html\n"
     ]
    }
   ],
   "source": [
    "line_chart = pygal.Bar()\n",
    "line_chart.title = 'Browser usage evolution (in %)'\n",
    "line_chart.x_labels = map(str, range(2002, 2013))\n",
    "line_chart.add('Firefox', [None, None, 0, 16.6,   25,   31, 36.4, 45.5, 46.3, 42.8, 37.1])\n",
    "line_chart.add('Chrome',  [None, None, None, None, None, None,    0,  3.9, 10.8, 23.8, 35.3])\n",
    "line_chart.add('IE',      [85.8, 84.6, 84.7, 74.5,   66, 58.6, 54.7, 44.8, 36.2, 26.6, 20.1])\n",
    "line_chart.add('Others',  [14.2, 15.4, 15.3,  8.9,    9, 10.4,  8.9,  5.8,  6.7,  6.8,  7.5])\n",
    "line_chart.render_in_browser()"
   ]
  },
  {
   "cell_type": "code",
   "execution_count": 42,
   "metadata": {},
   "outputs": [
    {
     "name": "stdout",
     "output_type": "stream",
     "text": [
      "33.53764705882354\n"
     ]
    }
   ],
   "source": [
    "total_production = 0.0\n",
    "sum = 0\n",
    "total_consumption = 0.0\n",
    "\n",
    "#hello = [list(map(int, row[4])) for row[4] in reader]\n",
    "\n",
    "firstline = True\n",
    "with open(data_file_name) as f:\n",
    "    reader = csv.reader(f)\n",
    "    for row in reader:\n",
    "        if firstline:\n",
    "            firstline = False\n",
    "            continue\n",
    "        if(int(row[3]) == 1991):\n",
    "            total_production += float(row[4])\n",
    "            sum = sum + 1\n",
    "    print(total_production / sum)"
   ]
  },
  {
   "cell_type": "code",
   "execution_count": null,
   "metadata": {},
   "outputs": [],
   "source": [
    "def totalProduction(year):\n",
    "    total_production = 0.0\n",
    "    firstline = True\n",
    "    with open(data_file_name) as f:\n",
    "        reader = csv.reader(f)\n",
    "        for row in reader:\n",
    "            if firstline:\n",
    "                firstline = False\n",
    "                continue\n",
    "            if(int(row[3]) == 2000):\n",
    "                total_production += float(row[4])\n",
    "    "
   ]
  }
 ],
 "metadata": {
  "kernelspec": {
   "display_name": "Python 3",
   "language": "python",
   "name": "python3"
  },
  "language_info": {
   "codemirror_mode": {
    "name": "ipython",
    "version": 3
   },
   "file_extension": ".py",
   "mimetype": "text/x-python",
   "name": "python",
   "nbconvert_exporter": "python",
   "pygments_lexer": "ipython3",
   "version": "3.7.0"
  }
 },
 "nbformat": 4,
 "nbformat_minor": 2
}
