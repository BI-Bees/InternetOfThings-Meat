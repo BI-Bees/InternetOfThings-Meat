{
 "cells": [
  {
   "cell_type": "code",
   "execution_count": 161,
   "metadata": {},
   "outputs": [],
   "source": [
    "import csv\n",
    "import pygal\n",
    "from pygal.maps.world import World\n",
    "import ipywidgets as widgets\n",
    "from IPython.display import display\n",
    "data_file_name = '../dataset/joined_w_countries.csv'"
   ]
  },
  {
   "cell_type": "code",
   "execution_count": 180,
   "metadata": {},
   "outputs": [],
   "source": [
    "#creating the widgets\n",
    "widget_map = widgets.Dropdown(\n",
    "    options = ['1991', '1992', '1993', '1994', '1995', '1996', '1997', '1998', '1999', '2000', '2001', '2002', '2003',\n",
    "               '2004', '2005', '2006', '2007', '2008', '2009', '2010', '2011', '2012', '2013'],\n",
    "               \n",
    "    description='Year:',\n",
    "    disabled=False\n",
    ")\n",
    "\n",
    "widget_pie_chart = widgets.BoundedIntText(\n",
    "    min=1991,\n",
    "    max=2013,\n",
    "    step=1,\n",
    "    description='Year:',\n",
    "    disabled=False,\n",
    "    continuous_update=False,\n",
    "    orientation='horizontal',\n",
    "    readout=True,\n",
    "    readout_format='d'\n",
    ")"
   ]
  },
  {
   "cell_type": "code",
   "execution_count": 181,
   "metadata": {},
   "outputs": [],
   "source": [
    "def generate_map(year):\n",
    "    worldmap_chart = pygal.maps.world.World()\n",
    "    worldmap_chart.title = 'Production vs Consumption - Year ' + year\n",
    "    with open(data_file_name) as f:\n",
    "        reader = csv.reader(f)\n",
    "        for row in reader:\n",
    "            if(row[3] == year):\n",
    "                worldmap_chart.add(row[2], {\n",
    "                str(row[6].lower()): [row[4], row[5]]\n",
    "            })\n",
    "                \n",
    "        worldmap_chart.render_in_browser()\n",
    "        #worldmap_chart.render()"
   ]
  },
  {
   "cell_type": "code",
   "execution_count": 182,
   "metadata": {},
   "outputs": [],
   "source": [
    "def total_production(year):\n",
    "    total_production = 0.0\n",
    "    sum = 0\n",
    "    firstline = True\n",
    "    with open(data_file_name) as f:\n",
    "        reader = csv.reader(f)\n",
    "        for row in reader:\n",
    "            if firstline:\n",
    "                firstline = False\n",
    "                continue\n",
    "            if(int(row[3]) == year):\n",
    "                total_production += float(row[4])\n",
    "                sum = sum + 1\n",
    "    return total_production / sum"
   ]
  },
  {
   "cell_type": "code",
   "execution_count": 183,
   "metadata": {},
   "outputs": [],
   "source": [
    "def total_consumption(year):\n",
    "    total_consumption = 0.0\n",
    "    sum = 0\n",
    "    firstline = True\n",
    "    with open(data_file_name) as f:\n",
    "        reader = csv.reader(f)\n",
    "        for row in reader:\n",
    "            if firstline:\n",
    "                firstline = False\n",
    "                continue\n",
    "            if(int(row[3]) == year):\n",
    "                total_consumption += float(row[5])\n",
    "                sum = sum + 1\n",
    "    return total_consumption / sum"
   ]
  },
  {
   "cell_type": "code",
   "execution_count": 184,
   "metadata": {},
   "outputs": [],
   "source": [
    "def pie_chart(year):\n",
    "    pie_chart = pygal.Pie()\n",
    "    pie_chart.title = 'Production vs Consumption ' + str(year)\n",
    "    pie_chart.add('Production', total_production(year))\n",
    "    pie_chart.add('Consumption', total_consumption(year))\n",
    "    \n",
    "    pie_chart.render_in_browser()\n",
    "    #pie_chart.render()"
   ]
  },
  {
   "cell_type": "code",
   "execution_count": 185,
   "metadata": {},
   "outputs": [],
   "source": [
    "def bar_chart():\n",
    "    line_chart = pygal.Bar()\n",
    "    line_chart.title = 'Prodcution and Consumption over the years'\n",
    "    line_chart.x_labels = map(str, range(1991, 2014))\n",
    "    line_chart.add('Consumption', [total_consumption(1991), total_consumption(1992), total_consumption(1993), total_consumption(1994), total_consumption(1995), total_consumption(1996), total_consumption(1997), total_consumption(1998), total_consumption(1999), total_consumption(2000), total_consumption(2001), total_consumption(2002), total_consumption(2003), total_consumption(2004), total_consumption(2005), total_consumption(2006), total_consumption(2007), total_consumption(2008), total_consumption(2009), total_consumption(2010), total_consumption(2011), total_consumption(2012), total_consumption(2013)])\n",
    "    line_chart.add('Production', [total_production(1991), total_production(1992), total_production(1993), total_production(1994), total_production(1995), total_production(1996), total_production(1997), total_production(1998), total_production(1999), total_production(2000), total_production(2001), total_production(2002), total_production(2003), total_production(2004), total_production(2005), total_production(2006), total_production(2007), total_production(2008), total_production(2009), total_production(2010), total_production(2011), total_production(2012), total_production(2013)])\n",
    "    line_chart.render_in_browser()"
   ]
  },
  {
   "cell_type": "code",
   "execution_count": 186,
   "metadata": {},
   "outputs": [],
   "source": [
    "def line_chart():\n",
    "    line_chart = pygal.Line()\n",
    "    line_chart.title = 'Prodcution and Consumption over the years'\n",
    "    line_chart.x_labels = map(str, range(1991, 2014))\n",
    "    line_chart.add('Production', [total_consumption(1991), total_consumption(1992), total_consumption(1993), total_consumption(1994), total_consumption(1995), total_consumption(1996), total_consumption(1997), total_consumption(1998), total_consumption(1999), total_consumption(2000), total_consumption(2001), total_consumption(2002), total_consumption(2003), total_consumption(2004), total_consumption(2005), total_consumption(2006), total_consumption(2007), total_consumption(2008), total_consumption(2009), total_consumption(2010), total_consumption(2011), total_consumption(2012), total_consumption(2013)])\n",
    "    line_chart.add('Consumption',  [total_production(1991), total_production(1992), total_production(1993), total_production(1994), total_production(1995), total_production(1996), total_production(1997), total_production(1998), total_production(1999), total_production(2000), total_production(2001), total_production(2002), total_production(2003), total_production(2004), total_production(2005), total_production(2006), total_production(2007), total_production(2008), total_production(2009), total_production(2010), total_production(2011), total_production(2012), total_production(2013)])\n",
    "    line_chart.render_in_browser()"
   ]
  },
  {
   "cell_type": "code",
   "execution_count": 189,
   "metadata": {},
   "outputs": [
    {
     "data": {
      "application/vnd.jupyter.widget-view+json": {
       "model_id": "8ed11bced0524d0da6caae09faca46b4",
       "version_major": 2,
       "version_minor": 0
      },
      "text/plain": [
       "interactive(children=(Dropdown(description='Year:', index=15, options=('1991', '1992', '1993', '1994', '1995',…"
      ]
     },
     "metadata": {},
     "output_type": "display_data"
    },
    {
     "data": {
      "text/plain": [
       "<function __main__.generate_map(year)>"
      ]
     },
     "execution_count": 189,
     "metadata": {},
     "output_type": "execute_result"
    }
   ],
   "source": [
    "#Eisplaying the map widget\n",
    "#User: Run this block and set a Year for the World Map. Then click the button to display it.\n",
    "\n",
    "widgets.interact_manual(generate_map, year=(widget_map))"
   ]
  },
  {
   "cell_type": "code",
   "execution_count": 190,
   "metadata": {},
   "outputs": [
    {
     "data": {
      "application/vnd.jupyter.widget-view+json": {
       "model_id": "23a0ebb0892044a985b0c111ea0a27ee",
       "version_major": 2,
       "version_minor": 0
      },
      "text/plain": [
       "interactive(children=(BoundedIntText(value=1991, description='Year:', max=2013, min=1991), Button(description=…"
      ]
     },
     "metadata": {},
     "output_type": "display_data"
    },
    {
     "data": {
      "text/plain": [
       "<function __main__.pie_chart(year)>"
      ]
     },
     "execution_count": 190,
     "metadata": {},
     "output_type": "execute_result"
    }
   ],
   "source": [
    "#Displaying the pie chart widget\n",
    "#User: Run this block to set a Year for the Pie Chart. Then click the button to display it.\n",
    "\n",
    "widgets.interact_manual(pie_chart, year=(widget_pie_chart))"
   ]
  },
  {
   "cell_type": "code",
   "execution_count": 117,
   "metadata": {},
   "outputs": [
    {
     "name": "stdout",
     "output_type": "stream",
     "text": [
      "file://C:/Users/Plamen/AppData/Local/Temp/tmpl8sr_6m7.html\n"
     ]
    }
   ],
   "source": [
    "line_chart()"
   ]
  },
  {
   "cell_type": "code",
   "execution_count": null,
   "metadata": {},
   "outputs": [],
   "source": []
  }
 ],
 "metadata": {
  "kernelspec": {
   "display_name": "Python 3",
   "language": "python",
   "name": "python3"
  },
  "language_info": {
   "codemirror_mode": {
    "name": "ipython",
    "version": 3
   },
   "file_extension": ".py",
   "mimetype": "text/x-python",
   "name": "python",
   "nbconvert_exporter": "python",
   "pygments_lexer": "ipython3",
   "version": "3.6.7"
  }
 },
 "nbformat": 4,
 "nbformat_minor": 2
}
